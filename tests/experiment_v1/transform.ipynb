{
 "cells": [
  {
   "cell_type": "markdown",
   "id": "1970d69f",
   "metadata": {},
   "source": [
    "# Tranform module: \n",
    "Improve :\n",
    "- topics labels with mistral or openai\n",
    "- extract_topic"
   ]
  },
  {
   "cell_type": "code",
   "execution_count": 22,
   "id": "a167ded9",
   "metadata": {},
   "outputs": [
    {
     "data": {
      "text/plain": [
       "<module 'transform' from 'd:\\\\market_analysis\\\\tests\\\\experiment\\\\../../source\\\\transform.py'>"
      ]
     },
     "execution_count": 22,
     "metadata": {},
     "output_type": "execute_result"
    }
   ],
   "source": [
    "import pandas as pd\n",
    "import sys \n",
    "import pickle\n",
    "import importlib\n",
    "sys.path.append('../../source')\n",
    "import transform\n",
    "from transform import Transform, TopicExtractor\n",
    "importlib.reload(transform)"
   ]
  },
  {
   "cell_type": "code",
   "execution_count": 8,
   "id": "776c7ca2",
   "metadata": {},
   "outputs": [],
   "source": [
    "df_raw = pickle.load(open('df_raw.p','rb'))\n"
   ]
  },
  {
   "cell_type": "code",
   "execution_count": 24,
   "id": "ad90c35c",
   "metadata": {},
   "outputs": [
    {
     "name": "stderr",
     "output_type": "stream",
     "text": [
      "[nltk_data] Downloading package stopwords to\n",
      "[nltk_data]     C:\\Users\\axelp\\AppData\\Roaming\\nltk_data...\n",
      "[nltk_data]   Package stopwords is already up-to-date!\n"
     ]
    },
    {
     "name": "stdout",
     "output_type": "stream",
     "text": [
      "score 0.41379310344827586\n",
      "      id                         functions\n",
      "0      0              Prod live : Festival\n",
      "1      0          Prod live : Organisateur\n",
      "2      1          Prod live : Organisateur\n",
      "3      2          Prod live : Organisateur\n",
      "4      3          Prod live : Organisateur\n",
      "..   ...                               ...\n",
      "287  139          Prod live : Organisateur\n",
      "288  139              Prod live : Festival\n",
      "289  140  Accompagnement / Dév. artistique\n",
      "290  140          Prod live : Organisateur\n",
      "291  140     Médiation / Action culturelle\n",
      "\n",
      "[292 rows x 2 columns]\n",
      "score 0.9692307692307692\n",
      "Index(['objectives'], dtype='object')\n"
     ]
    },
    {
     "name": "stderr",
     "output_type": "stream",
     "text": [
      "[nltk_data] Downloading package stopwords to\n",
      "[nltk_data]     C:\\Users\\axelp\\AppData\\Roaming\\nltk_data...\n",
      "[nltk_data]   Package stopwords is already up-to-date!\n"
     ]
    },
    {
     "ename": "SDKError",
     "evalue": "API error occurred: Status 429\n{\"message\":\"Requests rate limit exceeded\"}",
     "output_type": "error",
     "traceback": [
      "\u001b[1;31m---------------------------------------------------------------------------\u001b[0m",
      "\u001b[1;31mSDKError\u001b[0m                                  Traceback (most recent call last)",
      "Cell \u001b[1;32mIn[24], line 3\u001b[0m\n\u001b[0;32m      1\u001b[0m list_dic_col_split_str \u001b[38;5;241m=\u001b[39m[{\u001b[38;5;124m'\u001b[39m\u001b[38;5;124mcol\u001b[39m\u001b[38;5;124m'\u001b[39m: \u001b[38;5;124m'\u001b[39m\u001b[38;5;124mfunctions\u001b[39m\u001b[38;5;124m'\u001b[39m, \u001b[38;5;124m'\u001b[39m\u001b[38;5;124msep\u001b[39m\u001b[38;5;124m'\u001b[39m:\u001b[38;5;124m'\u001b[39m\u001b[38;5;124m,\u001b[39m\u001b[38;5;124m'\u001b[39m}]\n\u001b[0;32m      2\u001b[0m transform_ \u001b[38;5;241m=\u001b[39m Transform( list_dic_col_split_str \u001b[38;5;241m=\u001b[39m list_dic_col_split_str)\n\u001b[1;32m----> 3\u001b[0m df_simple, complex_dfs \u001b[38;5;241m=\u001b[39m transform_\u001b[38;5;241m.\u001b[39mtransform(df_raw)\n",
      "File \u001b[1;32md:\\market_analysis\\tests\\experiment\\../../source\\transform.py:253\u001b[0m, in \u001b[0;36mTransform.transform\u001b[1;34m(self, df)\u001b[0m\n\u001b[0;32m    250\u001b[0m topic_extractor \u001b[38;5;241m=\u001b[39m TopicExtractor()\n\u001b[0;32m    251\u001b[0m \u001b[38;5;66;03m# if topic_extractor.contains_heterogenous_str(df_):\u001b[39;00m\n\u001b[1;32m--> 253\u001b[0m df_temp \u001b[38;5;241m=\u001b[39m topic_extractor\u001b[38;5;241m.\u001b[39mextract_topics(df_)\n\u001b[0;32m    254\u001b[0m \u001b[38;5;28mprint\u001b[39m(df_temp)\n\u001b[0;32m    255\u001b[0m complex_dfs[key] \u001b[38;5;241m=\u001b[39m df_temp\n",
      "File \u001b[1;32md:\\market_analysis\\tests\\experiment\\../../source\\transform.py:212\u001b[0m, in \u001b[0;36mTopicExtractor.extract_topics\u001b[1;34m(self, df)\u001b[0m\n\u001b[0;32m    210\u001b[0m         \u001b[38;5;28;01mif\u001b[39;00m (\u001b[38;5;28mself\u001b[39m\u001b[38;5;241m.\u001b[39mis_column_string(df_temp,col)) \u001b[38;5;129;01mand\u001b[39;00m (\u001b[38;5;28mself\u001b[39m\u001b[38;5;241m.\u001b[39mcontains_heterogenous_str(df_temp) \u001b[38;5;129;01mor\u001b[39;00m (\u001b[38;5;124m'\u001b[39m\u001b[38;5;124mdescription\u001b[39m\u001b[38;5;124m'\u001b[39m \u001b[38;5;129;01min\u001b[39;00m col)):\n\u001b[0;32m    211\u001b[0m             \u001b[38;5;28mprint\u001b[39m(df_temp\u001b[38;5;241m.\u001b[39mcolumns)\n\u001b[1;32m--> 212\u001b[0m             df_temp \u001b[38;5;241m=\u001b[39m \u001b[38;5;28mself\u001b[39m\u001b[38;5;241m.\u001b[39mextract_topic(df_temp, drop_na\u001b[38;5;241m=\u001b[39m \u001b[38;5;28;01mTrue\u001b[39;00m)\n\u001b[0;32m    214\u001b[0m         df_result \u001b[38;5;241m=\u001b[39m df_result\u001b[38;5;241m.\u001b[39mmerge(df_temp, left_index\u001b[38;5;241m=\u001b[39m\u001b[38;5;28;01mTrue\u001b[39;00m, right_index\u001b[38;5;241m=\u001b[39m\u001b[38;5;28;01mTrue\u001b[39;00m) \u001b[38;5;66;03m#how='left',on='')\u001b[39;00m\n\u001b[0;32m    215\u001b[0m \u001b[38;5;28;01mreturn\u001b[39;00m df_result\n",
      "File \u001b[1;32md:\\market_analysis\\tests\\experiment\\../../source\\transform.py:189\u001b[0m, in \u001b[0;36mTopicExtractor.extract_topic\u001b[1;34m(self, df, target_col, drop_na)\u001b[0m\n\u001b[0;32m    187\u001b[0m \u001b[38;5;66;03m# Extraire les topics\u001b[39;00m\n\u001b[0;32m    188\u001b[0m topics, probs \u001b[38;5;241m=\u001b[39m topic_model\u001b[38;5;241m.\u001b[39mfit_transform( resultats )\n\u001b[1;32m--> 189\u001b[0m topic_model \u001b[38;5;241m=\u001b[39m \u001b[38;5;28mself\u001b[39m\u001b[38;5;241m.\u001b[39mupdate_topic_name(topic_model)\n\u001b[0;32m    191\u001b[0m \u001b[38;5;66;03m# Ajouter les catégories au dataframe\u001b[39;00m\n\u001b[0;32m    192\u001b[0m df[target_col\u001b[38;5;241m+\u001b[39m\u001b[38;5;124m'\u001b[39m\u001b[38;5;124m_topic\u001b[39m\u001b[38;5;124m'\u001b[39m] \u001b[38;5;241m=\u001b[39m topics\n",
      "File \u001b[1;32md:\\market_analysis\\tests\\experiment\\../../source\\transform.py:152\u001b[0m, in \u001b[0;36mTopicExtractor.update_topic_name\u001b[1;34m(self, topic_model)\u001b[0m\n\u001b[0;32m    149\u001b[0m words \u001b[38;5;241m=\u001b[39m [word \u001b[38;5;28;01mfor\u001b[39;00m word, _ \u001b[38;5;129;01min\u001b[39;00m topic_model\u001b[38;5;241m.\u001b[39mget_topic(topic_id)]\n\u001b[0;32m    150\u001b[0m prompt \u001b[38;5;241m=\u001b[39m \u001b[38;5;124mf\u001b[39m\u001b[38;5;124m\"\u001b[39m\u001b[38;5;124mVoici des mots clés pour un sujet : \u001b[39m\u001b[38;5;132;01m{\u001b[39;00m\u001b[38;5;124m'\u001b[39m\u001b[38;5;124m, \u001b[39m\u001b[38;5;124m'\u001b[39m\u001b[38;5;241m.\u001b[39mjoin(words)\u001b[38;5;132;01m}\u001b[39;00m\u001b[38;5;124m. Donne un nom court et pertinent pour ce sujet.\u001b[39m\u001b[38;5;124m\"\u001b[39m\n\u001b[1;32m--> 152\u001b[0m response \u001b[38;5;241m=\u001b[39m \u001b[38;5;28mself\u001b[39m\u001b[38;5;241m.\u001b[39mclient_mistral\u001b[38;5;241m.\u001b[39mchat\u001b[38;5;241m.\u001b[39mcomplete(\n\u001b[0;32m    153\u001b[0m     model\u001b[38;5;241m=\u001b[39m\u001b[38;5;28mself\u001b[39m\u001b[38;5;241m.\u001b[39mmodel_mistral,\n\u001b[0;32m    154\u001b[0m     messages\u001b[38;5;241m=\u001b[39m[{\u001b[38;5;124m\"\u001b[39m\u001b[38;5;124mrole\u001b[39m\u001b[38;5;124m\"\u001b[39m: \u001b[38;5;124m\"\u001b[39m\u001b[38;5;124muser\u001b[39m\u001b[38;5;124m\"\u001b[39m, \u001b[38;5;124m\"\u001b[39m\u001b[38;5;124mcontent\u001b[39m\u001b[38;5;124m\"\u001b[39m: prompt}]\n\u001b[0;32m    155\u001b[0m )\n\u001b[0;32m    157\u001b[0m generated_name \u001b[38;5;241m=\u001b[39m response\u001b[38;5;241m.\u001b[39mchoices[\u001b[38;5;241m0\u001b[39m]\u001b[38;5;241m.\u001b[39mmessage\u001b[38;5;241m.\u001b[39mcontent\u001b[38;5;241m.\u001b[39mstrip()\n\u001b[0;32m    158\u001b[0m topic_names[topic_id] \u001b[38;5;241m=\u001b[39m generated_name\n",
      "File \u001b[1;32mc:\\Users\\axelp\\anaconda3\\Lib\\site-packages\\mistralai\\chat.py:235\u001b[0m, in \u001b[0;36mChat.complete\u001b[1;34m(self, model, messages, temperature, top_p, max_tokens, stream, stop, random_seed, response_format, tools, tool_choice, presence_penalty, frequency_penalty, n, prediction, safe_prompt, retries, server_url, timeout_ms, http_headers)\u001b[0m\n\u001b[0;32m    233\u001b[0m \u001b[38;5;28;01mif\u001b[39;00m utils\u001b[38;5;241m.\u001b[39mmatch_response(http_res, \u001b[38;5;124m\"\u001b[39m\u001b[38;5;124m4XX\u001b[39m\u001b[38;5;124m\"\u001b[39m, \u001b[38;5;124m\"\u001b[39m\u001b[38;5;124m*\u001b[39m\u001b[38;5;124m\"\u001b[39m):\n\u001b[0;32m    234\u001b[0m     http_res_text \u001b[38;5;241m=\u001b[39m utils\u001b[38;5;241m.\u001b[39mstream_to_text(http_res)\n\u001b[1;32m--> 235\u001b[0m     \u001b[38;5;28;01mraise\u001b[39;00m models\u001b[38;5;241m.\u001b[39mSDKError(\n\u001b[0;32m    236\u001b[0m         \u001b[38;5;124m\"\u001b[39m\u001b[38;5;124mAPI error occurred\u001b[39m\u001b[38;5;124m\"\u001b[39m, http_res\u001b[38;5;241m.\u001b[39mstatus_code, http_res_text, http_res\n\u001b[0;32m    237\u001b[0m     )\n\u001b[0;32m    238\u001b[0m \u001b[38;5;28;01mif\u001b[39;00m utils\u001b[38;5;241m.\u001b[39mmatch_response(http_res, \u001b[38;5;124m\"\u001b[39m\u001b[38;5;124m5XX\u001b[39m\u001b[38;5;124m\"\u001b[39m, \u001b[38;5;124m\"\u001b[39m\u001b[38;5;124m*\u001b[39m\u001b[38;5;124m\"\u001b[39m):\n\u001b[0;32m    239\u001b[0m     http_res_text \u001b[38;5;241m=\u001b[39m utils\u001b[38;5;241m.\u001b[39mstream_to_text(http_res)\n",
      "\u001b[1;31mSDKError\u001b[0m: API error occurred: Status 429\n{\"message\":\"Requests rate limit exceeded\"}"
     ]
    }
   ],
   "source": [
    "list_dic_col_split_str =[{'col': 'functions', 'sep':','}]\n",
    "transform_ = Transform( list_dic_col_split_str = list_dic_col_split_str)\n",
    "df_simple, complex_dfs = transform_.transform(df_raw)"
   ]
  },
  {
   "cell_type": "code",
   "execution_count": null,
   "id": "f780d819",
   "metadata": {},
   "outputs": [],
   "source": [
    "df_debug = pickle.load(open('df_debug.p','rb'))"
   ]
  },
  {
   "cell_type": "code",
   "execution_count": null,
   "id": "09dc8cf5",
   "metadata": {},
   "outputs": [],
   "source": [
    "        self.representation_model = KeyBERTInspired()\n",
    "        # Créer un modèle BERTopic\n",
    "        topic_model = BERTopic(representation_model = self.representation_model )\n",
    "        # Extraire les topics\n",
    "        topics, probs = topic_model.fit_transform( resultats )"
   ]
  },
  {
   "cell_type": "code",
   "execution_count": null,
   "id": "bef81aea",
   "metadata": {},
   "outputs": [],
   "source": [
    "api_key = \"wm1af0pJ92Pj1tLbTSztHxeey62ru479\"\n",
    "# model = \"mistral-large-latest\"\n",
    "client = Mistral(api_key=api_key)"
   ]
  }
 ],
 "metadata": {
  "kernelspec": {
   "display_name": "base",
   "language": "python",
   "name": "python3"
  },
  "language_info": {
   "codemirror_mode": {
    "name": "ipython",
    "version": 3
   },
   "file_extension": ".py",
   "mimetype": "text/x-python",
   "name": "python",
   "nbconvert_exporter": "python",
   "pygments_lexer": "ipython3",
   "version": "3.11.5"
  }
 },
 "nbformat": 4,
 "nbformat_minor": 5
}
