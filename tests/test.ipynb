{
 "cells": [
  {
   "cell_type": "markdown",
   "metadata": {},
   "source": [
    "# Test the code on a list of url:"
   ]
  },
  {
   "cell_type": "code",
   "execution_count": 1,
   "metadata": {},
   "outputs": [],
   "source": [
    "import os\n",
    "import sys\n",
    "sys.path.append('../source')\n",
    "import query_url\n",
    "import importlib"
   ]
  },
  {
   "cell_type": "code",
   "execution_count": 40,
   "metadata": {},
   "outputs": [
    {
     "data": {
      "text/plain": [
       "<module 'query_url' from 'd:\\\\market_analysis\\\\tests\\\\../source\\\\query_url.py'>"
      ]
     },
     "execution_count": 40,
     "metadata": {},
     "output_type": "execute_result"
    }
   ],
   "source": [
    "importlib.reload(query_url)"
   ]
  },
  {
   "cell_type": "code",
   "execution_count": 41,
   "metadata": {},
   "outputs": [
    {
     "name": "stdout",
     "output_type": "stream",
     "text": [
      "Le dossier 'textes' existe déjà.\n",
      "Liens trouvés : 33\n",
      "Extraction du texte de : https://www.artpointm.com/production/performance-fantome\n",
      "Extraction du texte de : https://www.artpointm.com/production/ouverture-utopia\n",
      "Extraction du texte de : https://www.artpointm.com/production/i-have-a-dream\n",
      "Extraction du texte de : https://www.artpointm.com/production/carnaval-electro\n",
      "Extraction du texte de : https://www.artpointm.com/production/eurockennes-belfort\n",
      "Extraction du texte de : https://www.artpointm.com/production/toutes-et-tous-en-fleurs\n",
      "Extraction du texte de : https://www.artpointm.com/#production\n",
      "Extraction du texte de : https://www.artpointm.com/production/art-et-mode\n",
      "Extraction du texte de : https://www.artpointm.com/production/parade-lille3000-eldorado\n",
      "Extraction du texte de : https://www.artpointm.com/production/no-comment\n",
      "Extraction du texte de : https://www.artpointm.com/production/drague-me\n",
      "Extraction du texte de : https://www.artpointm.com/production/peace-for-all\n",
      "Extraction du texte de : https://www.artpointm.com/\n",
      "Extraction du texte de : https://www.artpointm.com/production/sun-city\n",
      "Extraction du texte de : https://www.artpointm.com/#festival\n",
      "Extraction du texte de : https://www.artpointm.com/#contact\n",
      "Extraction du texte de : https://www.artpointm.com/production/scenographie\n",
      "Extraction du texte de : https://www.artpointm.com/#a-propos\n",
      "Extraction du texte de : https://www.artpointm.com/production/eurockeennes-2024\n",
      "Extraction du texte de : https://www.artpointm.com/production/soyez-les-bienvenus\n",
      "Extraction du texte de : https://www.artpointm.com/production/et-si-cendrillon\n",
      "Extraction du texte de : https://www.artpointm.com/production/pop-up\n",
      "Extraction du texte de : https://www.artpointm.com/production/piano-platines\n",
      "Extraction du texte de : https://www.artpointm.com/festival/name-festival\n",
      "Extraction du texte de : https://www.artpointm.com/production/golden-cubes\n",
      "Extraction du texte de : https://www.artpointm.com/production/foule-power-abidjan\n",
      "Extraction du texte de : https://www.artpointm.com/festival/braderie-de-l-art\n",
      "Extraction du texte de : https://www.artpointm.com/production/foule-power-villeurbanne\n",
      "Extraction du texte de : https://www.artpointm.com/production/opera-culinaire\n",
      "Extraction du texte de : https://www.artpointm.com/production/banquet-ceramique\n",
      "Extraction du texte de : https://www.artpointm.com/production/magnifik-parade\n",
      "Extraction du texte de : https://www.artpointm.com/production/crazy-house\n",
      "Extraction du texte de : https://www.artpointm.com/festival/lille-tattoo-festival\n",
      "https://www.artpointm.com/production/performance-fantome\n",
      "https://www.artpointm.com/production/ouverture-utopia\n",
      "https://www.artpointm.com/production/i-have-a-dream\n",
      "https://www.artpointm.com/production/carnaval-electro\n",
      "https://www.artpointm.com/production/eurockennes-belfort\n",
      "https://www.artpointm.com/production/toutes-et-tous-en-fleurs\n",
      "https://www.artpointm.com/#production\n",
      "https://www.artpointm.com/production/art-et-mode\n",
      "https://www.artpointm.com/production/parade-lille3000-eldorado\n",
      "https://www.artpointm.com/production/no-comment\n",
      "https://www.artpointm.com/production/drague-me\n",
      "https://www.artpointm.com/production/peace-for-all\n",
      "https://www.artpointm.com/\n",
      "https://www.artpointm.com/production/sun-city\n",
      "https://www.artpointm.com/#festival\n",
      "https://www.artpointm.com/#contact\n",
      "https://www.artpointm.com/production/scenographie\n",
      "https://www.artpointm.com/#a-propos\n",
      "https://www.artpointm.com/production/eurockeennes-2024\n",
      "https://www.artpointm.com/production/soyez-les-bienvenus\n",
      "https://www.artpointm.com/production/et-si-cendrillon\n",
      "https://www.artpointm.com/production/pop-up\n",
      "https://www.artpointm.com/production/piano-platines\n",
      "https://www.artpointm.com/festival/name-festival\n",
      "https://www.artpointm.com/production/golden-cubes\n",
      "https://www.artpointm.com/production/foule-power-abidjan\n",
      "https://www.artpointm.com/festival/braderie-de-l-art\n",
      "https://www.artpointm.com/production/foule-power-villeurbanne\n",
      "https://www.artpointm.com/production/opera-culinaire\n",
      "https://www.artpointm.com/production/banquet-ceramique\n",
      "https://www.artpointm.com/production/magnifik-parade\n",
      "https://www.artpointm.com/production/crazy-house\n",
      "https://www.artpointm.com/festival/lille-tattoo-festival\n",
      "Liens trouvés : 4\n",
      "Extraction du texte de : https://lefungi.wixsite.com/lefungi/activites\n",
      "Extraction du texte de : https://lefungi.wixsite.com/lefungi/association\n",
      "Extraction du texte de : https://lefungi.wixsite.com/lefungi/infos\n",
      "Extraction du texte de : https://lefungi.wixsite.com/lefungi/ecosysteme\n",
      "https://lefungi.wixsite.com/lefungi/activites\n",
      "https://lefungi.wixsite.com/lefungi/association\n",
      "https://lefungi.wixsite.com/lefungi/infos\n",
      "https://lefungi.wixsite.com/lefungi/ecosysteme\n"
     ]
    }
   ],
   "source": [
    "list_url = [\n",
    "    'https://www.artpointm.com/',\n",
    "    'https://lefungi.wixsite.com/lefungi/'\n",
    "    ]\n",
    "query_url.get_text_from_url( \n",
    "    list_url,\n",
    "    folder_name = 'textes')"
   ]
  },
  {
   "cell_type": "code",
   "execution_count": 45,
   "metadata": {},
   "outputs": [],
   "source": [
    "with open('../source/prompt.txt','r', encoding='utf8') as f:\n",
    "    prompt = f.read()\n",
    "\n",
    "with open('textes/https___lefungi_wixsite_com_lefungi','r',encoding='utf8') as f:\n",
    "    text = f.read()    "
   ]
  },
  {
   "cell_type": "code",
   "execution_count": 47,
   "metadata": {},
   "outputs": [],
   "source": [
    "from pydantic import BaseModel\n",
    "from typing import List, Optional\n",
    "\n",
    "class Activity(BaseModel):\n",
    "    name: str\n",
    "    price: Optional[int]\n",
    "\n",
    "class Offer(BaseModel):\n",
    "    name: str\n",
    "    description: str\n",
    "    target_group: str  # Par exemple, \"particuliers\", \"entreprises\", \"artistes\", etc.\n",
    "    price: Optional[int]\n",
    "\n",
    "class MemberStatus(BaseModel):\n",
    "    status: str  # Par exemple, \"membre adhérent\", \"artiste soutenu\", \"client\", etc.\n",
    "    description: str\n",
    "    price: Optional[int]\n",
    "\n",
    "class Contact(BaseModel):\n",
    "    email: str\n",
    "\n",
    "class Communication(BaseModel):\n",
    "    facebook_likes: Optional[int]\n",
    "    facebook_follower: Optional[int]\n",
    "    instagram_publication: Optional[int]\n",
    "    instagram_followers: Optional[int]\n",
    "\n",
    "class Association(BaseModel):\n",
    "    association_name: str\n",
    "    objectives: List[str]\n",
    "    activities: List[Activity]\n",
    "    offers: List[Offer]\n",
    "    member_statuses: List[MemberStatus]  # Ajout des statuts des membres\n",
    "    contact: Contact\n",
    "    communication: Communication\n"
   ]
  },
  {
   "cell_type": "code",
   "execution_count": 48,
   "metadata": {},
   "outputs": [],
   "source": [
    "import os\n",
    "from mistralai import Mistral\n",
    "\n",
    "api_key = \"wm1af0pJ92Pj1tLbTSztHxeey62ru479\"\n",
    "model = \"mistral-large-latest\"\n",
    "\n",
    "client = Mistral(api_key=api_key)\n",
    "\n",
    "chat_response = client.chat.parse(\n",
    "    model=model,\n",
    "    messages=[\n",
    "        {\n",
    "            \"role\": \"system\", \n",
    "            \"content\": prompt\n",
    "        },\n",
    "        {\n",
    "            \"role\": \"user\", \n",
    "            \"content\": text\n",
    "        },\n",
    "    ],\n",
    "    response_format=Association\n",
    ")"
   ]
  },
  {
   "cell_type": "code",
   "execution_count": 49,
   "metadata": {},
   "outputs": [
    {
     "data": {
      "text/plain": [
       "{'activities': [{'name': 'Le Fungi chez vous', 'price': None},\n",
       "  {'name': 'Accompagnement', 'price': None},\n",
       "  {'name': 'Coopération & mutualisation', 'price': None}],\n",
       " 'association_name': 'Le Fungi',\n",
       " 'communication': {'facebook_follower': None,\n",
       "  'facebook_likes': None,\n",
       "  'instagram_followers': None,\n",
       "  'instagram_publication': None},\n",
       " 'contact': {'email': 'lefungi@protonmail.com'},\n",
       " 'member_statuses': [{'description': 'Personne physique ou morale, à jour de cotisation.',\n",
       "   'price': None,\n",
       "   'status': 'Membres adhérents'},\n",
       "  {'description': \"Personnes physiques ou morales qui versent un droit d'entrée et s'acquittent de la cotisation annuelle.\",\n",
       "   'price': None,\n",
       "   'status': 'Membres bienfaiteurs'},\n",
       "  {'description': \"Personnes physiques qui ont participé à la constitution de l'association, dispensées du paiement de la cotisation annuelle.\",\n",
       "   'price': None,\n",
       "   'status': 'Membres fondateurs'}],\n",
       " 'objectives': ['Favoriser la diffusion des cultures',\n",
       "  'Favoriser le bien-être',\n",
       "  'Favoriser les communs'],\n",
       " 'offers': [{'description': 'Organisation de manifestations culturelles & artistiques',\n",
       "   'name': 'Manifestations culturelles & artistiques',\n",
       "   'price': None,\n",
       "   'target_group': \"Public intéressé par la culture et l'art\"},\n",
       "  {'description': 'Création de moments de partage, de connexion à soi et aux autres',\n",
       "   'name': 'Moments de partage',\n",
       "   'price': None,\n",
       "   'target_group': 'Public intéressé par le bien-être et la connexion sociale'},\n",
       "  {'description': 'Organisation d’ateliers, de rencontres et mutualisation et le prêt de matériel',\n",
       "   'name': 'Ateliers et rencontres',\n",
       "   'price': None,\n",
       "   'target_group': 'Public intéressé par les activités communautaires'}]}"
      ]
     },
     "execution_count": 49,
     "metadata": {},
     "output_type": "execute_result"
    }
   ],
   "source": [
    "import json\n",
    "dic = json.loads(chat_response.choices[0].message.content)\n",
    "dic"
   ]
  },
  {
   "cell_type": "markdown",
   "metadata": {},
   "source": [
    "## Debug the study_text module"
   ]
  },
  {
   "cell_type": "code",
   "execution_count": 50,
   "metadata": {},
   "outputs": [],
   "source": [
    "import study_text"
   ]
  },
  {
   "cell_type": "code",
   "execution_count": 53,
   "metadata": {},
   "outputs": [],
   "source": [
    "list_files = os.listdir(\"textes\")"
   ]
  },
  {
   "cell_type": "code",
   "execution_count": null,
   "metadata": {},
   "outputs": [
    {
     "ename": "FileNotFoundError",
     "evalue": "[Errno 2] No such file or directory: 'https___lefungi_wixsite_com_lefungi'",
     "output_type": "error",
     "traceback": [
      "\u001b[1;31m---------------------------------------------------------------------------\u001b[0m",
      "\u001b[1;31mFileNotFoundError\u001b[0m                         Traceback (most recent call last)",
      "Cell \u001b[1;32mIn[55], line 1\u001b[0m\n\u001b[1;32m----> 1\u001b[0m study_text\u001b[38;5;241m.\u001b[39mstudy_text(list_files)\n",
      "File \u001b[1;32md:\\market_analysis\\tests\\../source\\study_text.py:64\u001b[0m, in \u001b[0;36mstudy_text\u001b[1;34m(list_files)\u001b[0m\n\u001b[0;32m     60\u001b[0m model \u001b[38;5;241m=\u001b[39m \u001b[38;5;124m\"\u001b[39m\u001b[38;5;124mmistral-large-latest\u001b[39m\u001b[38;5;124m\"\u001b[39m\n\u001b[0;32m     62\u001b[0m \u001b[38;5;28;01mfor\u001b[39;00m file \u001b[38;5;129;01min\u001b[39;00m list_files:\n\u001b[1;32m---> 64\u001b[0m     \u001b[38;5;28;01mwith\u001b[39;00m \u001b[38;5;28mopen\u001b[39m(file,\u001b[38;5;124m'\u001b[39m\u001b[38;5;124mr\u001b[39m\u001b[38;5;124m'\u001b[39m) \u001b[38;5;28;01mas\u001b[39;00m f:\n\u001b[0;32m     65\u001b[0m         text \u001b[38;5;241m=\u001b[39m f\u001b[38;5;241m.\u001b[39mread()\n\u001b[0;32m     66\u001b[0m     \u001b[38;5;28mprint\u001b[39m(text[:\u001b[38;5;241m10\u001b[39m])\n",
      "\u001b[1;31mFileNotFoundError\u001b[0m: [Errno 2] No such file or directory: 'https___lefungi_wixsite_com_lefungi'"
     ]
    }
   ],
   "source": [
    "study_text.study_text('textes')"
   ]
  },
  {
   "cell_type": "code",
   "execution_count": null,
   "metadata": {},
   "outputs": [],
   "source": []
  }
 ],
 "metadata": {
  "kernelspec": {
   "display_name": "base",
   "language": "python",
   "name": "python3"
  },
  "language_info": {
   "codemirror_mode": {
    "name": "ipython",
    "version": 3
   },
   "file_extension": ".py",
   "mimetype": "text/x-python",
   "name": "python",
   "nbconvert_exporter": "python",
   "pygments_lexer": "ipython3",
   "version": "3.11.5"
  }
 },
 "nbformat": 4,
 "nbformat_minor": 2
}
