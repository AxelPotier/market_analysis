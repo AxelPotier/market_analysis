{
 "cells": [
  {
   "cell_type": "markdown",
   "metadata": {},
   "source": [
    "# Hand webscrapping of facebook :"
   ]
  },
  {
   "cell_type": "code",
   "execution_count": 1,
   "metadata": {},
   "outputs": [],
   "source": [
    "import pickle\n",
    "import validators\n",
    "import os\n",
    "import sys\n",
    "from pydantic import BaseModel\n",
    "sys.path.append('../source')\n",
    "import query_url\n",
    "import importlib\n",
    "importlib.reload(query_url)\n",
    "import study_text\n",
    "importlib.reload(study_text)\n",
    "import pandas as pd\n",
    "from study_text import StudyText"
   ]
  },
  {
   "cell_type": "code",
   "execution_count": 13,
   "metadata": {},
   "outputs": [],
   "source": [
    "list_dic_scrap_hdf = pickle.load(open('list_dic_scrap_hdf.p','rb'))"
   ]
  },
  {
   "cell_type": "code",
   "execution_count": 14,
   "metadata": {},
   "outputs": [],
   "source": [
    "list_dic_scrap_hdf_facebook = [dic for dic in list_dic_scrap_hdf if dic.get('website_type')=='Facebook']"
   ]
  },
  {
   "cell_type": "code",
   "execution_count": 15,
   "metadata": {},
   "outputs": [],
   "source": [
    "import re\n",
    "\n",
    "def sanitize_filename(filename, max_length=255):\n",
    "    # Définition des caractères interdits (Windows + Linux)\n",
    "    forbidden_chars = r'[\\/:*?\"<>|]'  \n",
    "    # Remplace les caractères interdits par \"_\"\n",
    "    sanitized = re.sub(forbidden_chars, \"_\", filename)\n",
    "    # Remplace les espaces multiples par un seul underscore\n",
    "    sanitized = re.sub(r'\\s+', '_', sanitized).strip('_')\n",
    "    # Tronque si dépasse la longueur max (255 en général)\n",
    "    return sanitized[:max_length]"
   ]
  },
  {
   "cell_type": "code",
   "execution_count": 16,
   "metadata": {},
   "outputs": [],
   "source": [
    "for dic in list_dic_scrap_hdf_facebook:\n",
    "    dic['file_name'] = sanitize_filename(dic['name'])"
   ]
  },
  {
   "cell_type": "code",
   "execution_count": 27,
   "metadata": {},
   "outputs": [
    {
     "name": "stdout",
     "output_type": "stream",
     "text": [
      "Billy Society Production\n",
      "https://www.facebook.com/billysociety.prod\n",
      "Billy_Society_Production\n"
     ]
    }
   ],
   "source": [
    "i =0\n",
    "print(list_dic_scrap_hdf_facebook[i].get('name'))\n",
    "print(list_dic_scrap_hdf_facebook[i].get('url'))\n",
    "print(list_dic_scrap_hdf_facebook[i].get('file_name'))"
   ]
  },
  {
   "cell_type": "markdown",
   "metadata": {},
   "source": [
    "## Study the texts in the folder html_facebook: "
   ]
  },
  {
   "cell_type": "code",
   "execution_count": 3,
   "metadata": {},
   "outputs": [
    {
     "name": "stdout",
     "output_type": "stream",
     "text": [
      " \n",
      "Recherch\n",
      " \n",
      "Recherch\n",
      "\n",
      "Adresse e\n",
      "\n",
      "Adresse e\n",
      " \n",
      "Recherch\n",
      "\n",
      "Adresse e\n",
      "\n",
      "Adresse e\n",
      "\n",
      "Adresse e\n",
      "\n",
      "Adresse e\n",
      "\n",
      "Adresse e\n",
      "\n",
      "Adresse e\n",
      "\n",
      "Adresse e\n",
      "\n",
      "Adresse e\n",
      "\n",
      "Adresse e\n",
      " \n",
      "Recherch\n",
      "\n",
      "Adresse e\n",
      "\n",
      "Adresse e\n",
      "\n",
      "\n",
      "Adresse e\n",
      "\n",
      "Adresse e\n",
      "\n",
      "Adresse e\n",
      "\n",
      "Adresse e\n",
      "\n",
      "Adresse e\n",
      "\n",
      "Adresse e\n",
      " \n",
      "Recherch\n",
      "\n",
      "Adresse e\n",
      "\n",
      "Adresse e\n",
      "\n",
      "Adresse e\n",
      "Error processing La_Belle_Entente: API error occurred: Status 502\n",
      "<html>\n",
      "<head><title>502 Bad Gateway</title></head>\n",
      "<body>\n",
      "<center><h1>502 Bad Gateway</h1></center>\n",
      "<hr><center>cloudflare</center>\n",
      "</body>\n",
      "</html>\n",
      "\n",
      "\n",
      "Adresse e\n",
      "\n",
      "Adresse e\n",
      "\n",
      "Adresse e\n",
      "\n",
      "Adresse e\n",
      "\n",
      "Adresse e\n",
      "\n",
      "Adresse e\n",
      "\n",
      "Adresse e\n",
      "\n",
      "Adresse e\n",
      "\n",
      "Adresse e\n",
      "\n",
      "Adresse e\n",
      "\n",
      "Adresse e\n",
      "\n",
      "Adresse e\n",
      "\n",
      "\n",
      "Adresse e\n",
      " \n",
      "Recherch\n",
      " \n",
      "Recherch\n",
      " \n",
      "Recherch\n",
      " \n",
      "Recherch\n",
      "\n",
      " \n",
      "Recherch\n",
      " \n",
      "Recherch\n",
      "\n",
      "Adresse e\n",
      "\n",
      "Adresse e\n",
      "\n",
      "Adresse e\n",
      "\n",
      "Adresse e\n",
      "\n",
      "Adresse e\n",
      "\n",
      "Adresse e\n",
      " \n",
      "Recherch\n",
      "\n",
      "Adresse e\n",
      "\n",
      "\n",
      "\n",
      "Adresse e\n",
      "\n",
      "Adresse e\n",
      "\n",
      "Adresse e\n",
      "\n",
      "Adresse e\n"
     ]
    }
   ],
   "source": [
    "st = StudyText(path_prompt = \"../source/prompt.txt\", cache_file = 'df_facebook_temp.p')\n",
    "st.analyze_texts_in_folder('html_facebook')"
   ]
  },
  {
   "cell_type": "code",
   "execution_count": 10,
   "metadata": {},
   "outputs": [
    {
     "data": {
      "text/plain": [
       "['Production de concerts', 'Diffusion de concerts']"
      ]
     },
     "execution_count": 10,
     "metadata": {},
     "output_type": "execute_result"
    }
   ],
   "source": [
    "st.df.loc[2,'objectives']   "
   ]
  },
  {
   "cell_type": "code",
   "execution_count": 17,
   "metadata": {},
   "outputs": [],
   "source": [
    "df_information = pd.DataFrame(list_dic_scrap_hdf_facebook)"
   ]
  },
  {
   "cell_type": "code",
   "execution_count": 20,
   "metadata": {},
   "outputs": [],
   "source": [
    "df = st.augment_data_frame_with_other_informations(df_information, left_on='text_name', right_on ='file_name')"
   ]
  },
  {
   "cell_type": "code",
   "execution_count": 21,
   "metadata": {},
   "outputs": [],
   "source": [
    "pickle.dump(df,open('df_facebook.p','wb'))"
   ]
  },
  {
   "cell_type": "code",
   "execution_count": null,
   "metadata": {},
   "outputs": [
    {
     "ename": "IndexError",
     "evalue": "list index out of range",
     "output_type": "error",
     "traceback": [
      "\u001b[1;31m---------------------------------------------------------------------------\u001b[0m",
      "\u001b[1;31mIndexError\u001b[0m                                Traceback (most recent call last)",
      "Cell \u001b[1;32mIn[132], line 3\u001b[0m\n\u001b[0;32m      1\u001b[0m i \u001b[38;5;241m=\u001b[39m \u001b[38;5;241m63\u001b[39m\n\u001b[1;32m----> 3\u001b[0m \u001b[38;5;28mprint\u001b[39m(list_dic_scrap_hdf_facebook[i]\u001b[38;5;241m.\u001b[39mget(\u001b[38;5;124m'\u001b[39m\u001b[38;5;124mname\u001b[39m\u001b[38;5;124m'\u001b[39m))\n\u001b[0;32m      4\u001b[0m \u001b[38;5;28mprint\u001b[39m(list_dic_scrap_hdf_facebook[i]\u001b[38;5;241m.\u001b[39mget(\u001b[38;5;124m'\u001b[39m\u001b[38;5;124murl\u001b[39m\u001b[38;5;124m'\u001b[39m))\n\u001b[0;32m      5\u001b[0m \u001b[38;5;28mprint\u001b[39m(list_dic_scrap_hdf_facebook[i]\u001b[38;5;241m.\u001b[39mget(\u001b[38;5;124m'\u001b[39m\u001b[38;5;124mfile_name\u001b[39m\u001b[38;5;124m'\u001b[39m))\n",
      "\u001b[1;31mIndexError\u001b[0m: list index out of range"
     ]
    }
   ],
   "source": [
    "\n",
    "\n",
    "i = 63\n",
    "\n",
    "print(list_dic_scrap_hdf_facebook[i].get('name'))\n",
    "print(list_dic_scrap_hdf_facebook[i].get('url'))\n",
    "print(list_dic_scrap_hdf_facebook[i].get('file_name'))"
   ]
  },
  {
   "cell_type": "markdown",
   "metadata": {},
   "source": []
  },
  {
   "cell_type": "code",
   "execution_count": 60,
   "metadata": {},
   "outputs": [],
   "source": [
    "folder = 'html_facebook'\n",
    "\n",
    "for dic in list_dic_scrap_hdf_facebook:\n",
    "    path_to_file = folder +'/'+dic['file_name']\n",
    "    open(path_to_file, \"w\").close()"
   ]
  },
  {
   "cell_type": "code",
   "execution_count": null,
   "metadata": {},
   "outputs": [],
   "source": []
  }
 ],
 "metadata": {
  "kernelspec": {
   "display_name": "base",
   "language": "python",
   "name": "python3"
  },
  "language_info": {
   "codemirror_mode": {
    "name": "ipython",
    "version": 3
   },
   "file_extension": ".py",
   "mimetype": "text/x-python",
   "name": "python",
   "nbconvert_exporter": "python",
   "pygments_lexer": "ipython3",
   "version": "3.11.5"
  }
 },
 "nbformat": 4,
 "nbformat_minor": 2
}
