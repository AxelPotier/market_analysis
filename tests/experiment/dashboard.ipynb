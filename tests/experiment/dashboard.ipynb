{
 "cells": [
  {
   "cell_type": "markdown",
   "id": "b9a0b248",
   "metadata": {},
   "source": [
    "# Dashboard of the market analysis :"
   ]
  },
  {
   "cell_type": "code",
   "execution_count": 1,
   "id": "1e543475",
   "metadata": {},
   "outputs": [],
   "source": [
    "import pandas as pd\n",
    "import streamlit as st\n",
    "import pickle\n",
    "import plotly.express as px"
   ]
  },
  {
   "cell_type": "code",
   "execution_count": 2,
   "id": "de07b842",
   "metadata": {},
   "outputs": [],
   "source": [
    "df_simple = pickle.load(open('df_simple.p','rb'))\n",
    "complex_dfs = pickle.load(open('complex_dfs.p','rb'))"
   ]
  },
  {
   "cell_type": "code",
   "execution_count": 4,
   "id": "833fe5b4",
   "metadata": {},
   "outputs": [
    {
     "data": {
      "text/html": [
       "<div>\n",
       "<style scoped>\n",
       "    .dataframe tbody tr th:only-of-type {\n",
       "        vertical-align: middle;\n",
       "    }\n",
       "\n",
       "    .dataframe tbody tr th {\n",
       "        vertical-align: top;\n",
       "    }\n",
       "\n",
       "    .dataframe thead th {\n",
       "        text-align: right;\n",
       "    }\n",
       "</style>\n",
       "<table border=\"1\" class=\"dataframe\">\n",
       "  <thead>\n",
       "    <tr style=\"text-align: right;\">\n",
       "      <th></th>\n",
       "      <th>id</th>\n",
       "      <th>description</th>\n",
       "      <th>description_topic</th>\n",
       "      <th>Count</th>\n",
       "      <th>description_topic_label</th>\n",
       "      <th>description_topic_representation</th>\n",
       "      <th>description_Representative_Docs</th>\n",
       "      <th>name</th>\n",
       "      <th>price</th>\n",
       "      <th>target_group</th>\n",
       "    </tr>\n",
       "  </thead>\n",
       "  <tbody>\n",
       "    <tr>\n",
       "      <th>0</th>\n",
       "      <td>0</td>\n",
       "      <td>Notre agence est experte dans l’organisation e...</td>\n",
       "      <td>17</td>\n",
       "      <td>15</td>\n",
       "      <td>17_festival_organisation_lvnement_rue</td>\n",
       "      <td>[festival, organisation, lvnement, rue, entrep...</td>\n",
       "      <td>[yapluk'a rue guiscard festival o'parc - yaplu...</td>\n",
       "      <td>Organisation et gestion d’évènements</td>\n",
       "      <td>NaN</td>\n",
       "      <td>entreprise ou grand public</td>\n",
       "    </tr>\n",
       "    <tr>\n",
       "      <th>1</th>\n",
       "      <td>0</td>\n",
       "      <td>Notre agence est experte dans l’organisation e...</td>\n",
       "      <td>17</td>\n",
       "      <td>15</td>\n",
       "      <td>17_festival_organisation_lvnement_rue</td>\n",
       "      <td>[festival, organisation, lvnement, rue, entrep...</td>\n",
       "      <td>[yapluk'a rue guiscard festival o'parc - yaplu...</td>\n",
       "      <td>Organisation et gestion d’évènements</td>\n",
       "      <td>NaN</td>\n",
       "      <td>entreprise ou grand public</td>\n",
       "    </tr>\n",
       "    <tr>\n",
       "      <th>2</th>\n",
       "      <td>0</td>\n",
       "      <td>Notre agence est experte dans l’organisation e...</td>\n",
       "      <td>17</td>\n",
       "      <td>15</td>\n",
       "      <td>17_festival_organisation_lvnement_rue</td>\n",
       "      <td>[festival, organisation, lvnement, rue, entrep...</td>\n",
       "      <td>[yapluk'a rue guiscard festival o'parc - yaplu...</td>\n",
       "      <td>Organisation et gestion d’évènements</td>\n",
       "      <td>NaN</td>\n",
       "      <td>entreprise ou grand public</td>\n",
       "    </tr>\n",
       "    <tr>\n",
       "      <th>3</th>\n",
       "      <td>1</td>\n",
       "      <td>Des événement inédits</td>\n",
       "      <td>-1</td>\n",
       "      <td>30</td>\n",
       "      <td>-1_cotonneux_electro_catchy_annuels</td>\n",
       "      <td>[cotonneux, electro, catchy, annuels, dansante...</td>\n",
       "      <td>[electro catchy cotonneux, electro catchy coto...</td>\n",
       "      <td>Événements inédits</td>\n",
       "      <td>NaN</td>\n",
       "      <td>public</td>\n",
       "    </tr>\n",
       "    <tr>\n",
       "      <th>4</th>\n",
       "      <td>1</td>\n",
       "      <td>Des événement inédits</td>\n",
       "      <td>-1</td>\n",
       "      <td>30</td>\n",
       "      <td>-1_cotonneux_electro_catchy_annuels</td>\n",
       "      <td>[cotonneux, electro, catchy, annuels, dansante...</td>\n",
       "      <td>[electro catchy cotonneux, electro catchy coto...</td>\n",
       "      <td>Événements inédits</td>\n",
       "      <td>NaN</td>\n",
       "      <td>public</td>\n",
       "    </tr>\n",
       "    <tr>\n",
       "      <th>...</th>\n",
       "      <td>...</td>\n",
       "      <td>...</td>\n",
       "      <td>...</td>\n",
       "      <td>...</td>\n",
       "      <td>...</td>\n",
       "      <td>...</td>\n",
       "      <td>...</td>\n",
       "      <td>...</td>\n",
       "      <td>...</td>\n",
       "      <td>...</td>\n",
       "    </tr>\n",
       "    <tr>\n",
       "      <th>535</th>\n",
       "      <td>139</td>\n",
       "      <td>Déplacer le marché de Noël de Starsbourg à Ami...</td>\n",
       "      <td>3</td>\n",
       "      <td>32</td>\n",
       "      <td>3_interdire_amiens_ponts_tourisme</td>\n",
       "      <td>[interdire, amiens, ponts, tourisme, leurs, vo...</td>\n",
       "      <td>[interdire ponts amiens, interdire ponts amien...</td>\n",
       "      <td>Déplacer le marché de Noël de Starsbourg à Amiens</td>\n",
       "      <td>NaN</td>\n",
       "      <td>commerce</td>\n",
       "    </tr>\n",
       "    <tr>\n",
       "      <th>536</th>\n",
       "      <td>140</td>\n",
       "      <td>Interdire le marché de Noël à Amiens</td>\n",
       "      <td>3</td>\n",
       "      <td>32</td>\n",
       "      <td>3_interdire_amiens_ponts_tourisme</td>\n",
       "      <td>[interdire, amiens, ponts, tourisme, leurs, vo...</td>\n",
       "      <td>[interdire ponts amiens, interdire ponts amien...</td>\n",
       "      <td>Interdire le marché de Noël à Amiens</td>\n",
       "      <td>NaN</td>\n",
       "      <td>commerce</td>\n",
       "    </tr>\n",
       "    <tr>\n",
       "      <th>537</th>\n",
       "      <td>140</td>\n",
       "      <td>Interdire le marché de Noël à Amiens</td>\n",
       "      <td>3</td>\n",
       "      <td>32</td>\n",
       "      <td>3_interdire_amiens_ponts_tourisme</td>\n",
       "      <td>[interdire, amiens, ponts, tourisme, leurs, vo...</td>\n",
       "      <td>[interdire ponts amiens, interdire ponts amien...</td>\n",
       "      <td>Interdire le marché de Noël à Amiens</td>\n",
       "      <td>NaN</td>\n",
       "      <td>commerce</td>\n",
       "    </tr>\n",
       "    <tr>\n",
       "      <th>538</th>\n",
       "      <td>140</td>\n",
       "      <td>Interdire le marché de Noël à Amiens</td>\n",
       "      <td>3</td>\n",
       "      <td>32</td>\n",
       "      <td>3_interdire_amiens_ponts_tourisme</td>\n",
       "      <td>[interdire, amiens, ponts, tourisme, leurs, vo...</td>\n",
       "      <td>[interdire ponts amiens, interdire ponts amien...</td>\n",
       "      <td>Interdire le marché de Noël à Amiens</td>\n",
       "      <td>NaN</td>\n",
       "      <td>commerce</td>\n",
       "    </tr>\n",
       "    <tr>\n",
       "      <th>539</th>\n",
       "      <td>140</td>\n",
       "      <td>Interdire le marché de Noël à Amiens</td>\n",
       "      <td>3</td>\n",
       "      <td>32</td>\n",
       "      <td>3_interdire_amiens_ponts_tourisme</td>\n",
       "      <td>[interdire, amiens, ponts, tourisme, leurs, vo...</td>\n",
       "      <td>[interdire ponts amiens, interdire ponts amien...</td>\n",
       "      <td>Interdire le marché de Noël à Amiens</td>\n",
       "      <td>NaN</td>\n",
       "      <td>commerce</td>\n",
       "    </tr>\n",
       "  </tbody>\n",
       "</table>\n",
       "<p>540 rows × 10 columns</p>\n",
       "</div>"
      ],
      "text/plain": [
       "      id                                        description  \\\n",
       "0      0  Notre agence est experte dans l’organisation e...   \n",
       "1      0  Notre agence est experte dans l’organisation e...   \n",
       "2      0  Notre agence est experte dans l’organisation e...   \n",
       "3      1                              Des événement inédits   \n",
       "4      1                              Des événement inédits   \n",
       "..   ...                                                ...   \n",
       "535  139  Déplacer le marché de Noël de Starsbourg à Ami...   \n",
       "536  140               Interdire le marché de Noël à Amiens   \n",
       "537  140               Interdire le marché de Noël à Amiens   \n",
       "538  140               Interdire le marché de Noël à Amiens   \n",
       "539  140               Interdire le marché de Noël à Amiens   \n",
       "\n",
       "     description_topic  Count                description_topic_label  \\\n",
       "0                   17     15  17_festival_organisation_lvnement_rue   \n",
       "1                   17     15  17_festival_organisation_lvnement_rue   \n",
       "2                   17     15  17_festival_organisation_lvnement_rue   \n",
       "3                   -1     30    -1_cotonneux_electro_catchy_annuels   \n",
       "4                   -1     30    -1_cotonneux_electro_catchy_annuels   \n",
       "..                 ...    ...                                    ...   \n",
       "535                  3     32      3_interdire_amiens_ponts_tourisme   \n",
       "536                  3     32      3_interdire_amiens_ponts_tourisme   \n",
       "537                  3     32      3_interdire_amiens_ponts_tourisme   \n",
       "538                  3     32      3_interdire_amiens_ponts_tourisme   \n",
       "539                  3     32      3_interdire_amiens_ponts_tourisme   \n",
       "\n",
       "                      description_topic_representation  \\\n",
       "0    [festival, organisation, lvnement, rue, entrep...   \n",
       "1    [festival, organisation, lvnement, rue, entrep...   \n",
       "2    [festival, organisation, lvnement, rue, entrep...   \n",
       "3    [cotonneux, electro, catchy, annuels, dansante...   \n",
       "4    [cotonneux, electro, catchy, annuels, dansante...   \n",
       "..                                                 ...   \n",
       "535  [interdire, amiens, ponts, tourisme, leurs, vo...   \n",
       "536  [interdire, amiens, ponts, tourisme, leurs, vo...   \n",
       "537  [interdire, amiens, ponts, tourisme, leurs, vo...   \n",
       "538  [interdire, amiens, ponts, tourisme, leurs, vo...   \n",
       "539  [interdire, amiens, ponts, tourisme, leurs, vo...   \n",
       "\n",
       "                       description_Representative_Docs  \\\n",
       "0    [yapluk'a rue guiscard festival o'parc - yaplu...   \n",
       "1    [yapluk'a rue guiscard festival o'parc - yaplu...   \n",
       "2    [yapluk'a rue guiscard festival o'parc - yaplu...   \n",
       "3    [electro catchy cotonneux, electro catchy coto...   \n",
       "4    [electro catchy cotonneux, electro catchy coto...   \n",
       "..                                                 ...   \n",
       "535  [interdire ponts amiens, interdire ponts amien...   \n",
       "536  [interdire ponts amiens, interdire ponts amien...   \n",
       "537  [interdire ponts amiens, interdire ponts amien...   \n",
       "538  [interdire ponts amiens, interdire ponts amien...   \n",
       "539  [interdire ponts amiens, interdire ponts amien...   \n",
       "\n",
       "                                                  name  price  \\\n",
       "0                 Organisation et gestion d’évènements    NaN   \n",
       "1                 Organisation et gestion d’évènements    NaN   \n",
       "2                 Organisation et gestion d’évènements    NaN   \n",
       "3                                   Événements inédits    NaN   \n",
       "4                                   Événements inédits    NaN   \n",
       "..                                                 ...    ...   \n",
       "535  Déplacer le marché de Noël de Starsbourg à Amiens    NaN   \n",
       "536               Interdire le marché de Noël à Amiens    NaN   \n",
       "537               Interdire le marché de Noël à Amiens    NaN   \n",
       "538               Interdire le marché de Noël à Amiens    NaN   \n",
       "539               Interdire le marché de Noël à Amiens    NaN   \n",
       "\n",
       "                   target_group  \n",
       "0    entreprise ou grand public  \n",
       "1    entreprise ou grand public  \n",
       "2    entreprise ou grand public  \n",
       "3                        public  \n",
       "4                        public  \n",
       "..                          ...  \n",
       "535                    commerce  \n",
       "536                    commerce  \n",
       "537                    commerce  \n",
       "538                    commerce  \n",
       "539                    commerce  \n",
       "\n",
       "[540 rows x 10 columns]"
      ]
     },
     "execution_count": 4,
     "metadata": {},
     "output_type": "execute_result"
    }
   ],
   "source": [
    "complex_dfs['offers']"
   ]
  },
  {
   "cell_type": "code",
   "execution_count": 25,
   "id": "61d3f42a",
   "metadata": {},
   "outputs": [],
   "source": [
    "df_events = complex_dfs['events'].drop_duplicates()##.groupby('music_type').count()#drop_duplicates()"
   ]
  },
  {
   "cell_type": "code",
   "execution_count": 50,
   "id": "ec0511c1",
   "metadata": {},
   "outputs": [
    {
     "name": "stderr",
     "output_type": "stream",
     "text": [
      "C:\\Users\\axelp\\AppData\\Local\\Temp\\ipykernel_16452\\551406965.py:1: UserWarning: Could not infer format, so each element will be parsed individually, falling back to `dateutil`. To ensure parsing is consistent and as-expected, please specify a format.\n",
      "  dates = pd.to_datetime(df_events['date'], errors ='coerce').dropna()\n"
     ]
    }
   ],
   "source": [
    "dates = pd.to_datetime(df_events['date'], errors ='coerce').dropna()"
   ]
  },
  {
   "cell_type": "code",
   "execution_count": 51,
   "id": "413965c2",
   "metadata": {},
   "outputs": [
    {
     "data": {
      "text/plain": [
       "1      2025-02-27 00:00:00\n",
       "96     2025-02-28 00:00:00\n",
       "99     2025-01-03 00:00:00\n",
       "100    2025-02-03 00:00:00\n",
       "103    2025-06-03 00:00:00\n",
       "               ...        \n",
       "1599   2025-02-02 16:00:00\n",
       "1601   2024-12-15 16:00:00\n",
       "1602   2024-11-23 18:30:00\n",
       "1871   2025-02-21 00:00:00\n",
       "1872   2025-09-13 00:00:00\n",
       "Name: date, Length: 104, dtype: datetime64[ns]"
      ]
     },
     "execution_count": 51,
     "metadata": {},
     "output_type": "execute_result"
    }
   ],
   "source": [
    "dates"
   ]
  },
  {
   "cell_type": "code",
   "execution_count": 32,
   "id": "a8367d5a",
   "metadata": {},
   "outputs": [
    {
     "data": {
      "text/plain": [
       "<Axes: >"
      ]
     },
     "execution_count": 32,
     "metadata": {},
     "output_type": "execute_result"
    }
   ],
   "source": [
    "dates.hist()"
   ]
  },
  {
   "cell_type": "code",
   "execution_count": 52,
   "id": "c2d1082b",
   "metadata": {},
   "outputs": [],
   "source": [
    "# dates =[ date for date in list(dates) if not pd.isna(date)]\n",
    "date_counts = dates.dt.to_period('M').value_counts().sort_index()"
   ]
  },
  {
   "cell_type": "code",
   "execution_count": 55,
   "id": "d02b4dc4",
   "metadata": {},
   "outputs": [],
   "source": [
    "df_month_counts = date_counts.rename_axis('mois').reset_index(name='nb_dates')"
   ]
  },
  {
   "cell_type": "code",
   "execution_count": 62,
   "id": "6caedc64",
   "metadata": {},
   "outputs": [
    {
     "ename": "AttributeError",
     "evalue": "'Series' object has no attribute 'to_series'",
     "output_type": "error",
     "traceback": [
      "\u001b[1;31m---------------------------------------------------------------------------\u001b[0m",
      "\u001b[1;31mAttributeError\u001b[0m                            Traceback (most recent call last)",
      "\u001b[1;32m~\\AppData\\Local\\Temp\\ipykernel_16452\\2117870998.py\u001b[0m in \u001b[0;36m?\u001b[1;34m()\u001b[0m\n\u001b[0;32m      1\u001b[0m \u001b[1;31m# Conversion en datetime\u001b[0m\u001b[1;33m\u001b[0m\u001b[1;33m\u001b[0m\u001b[0m\n\u001b[0;32m      2\u001b[0m \u001b[0mdate_series\u001b[0m \u001b[1;33m=\u001b[0m \u001b[0mpd\u001b[0m\u001b[1;33m.\u001b[0m\u001b[0mto_datetime\u001b[0m\u001b[1;33m(\u001b[0m\u001b[0mdates\u001b[0m\u001b[1;33m)\u001b[0m\u001b[1;33m\u001b[0m\u001b[1;33m\u001b[0m\u001b[0m\n\u001b[0;32m      3\u001b[0m \u001b[1;33m\u001b[0m\u001b[0m\n\u001b[0;32m      4\u001b[0m \u001b[1;31m# Grouper par mois\u001b[0m\u001b[1;33m\u001b[0m\u001b[1;33m\u001b[0m\u001b[0m\n\u001b[1;32m----> 5\u001b[1;33m \u001b[0mdate_counts\u001b[0m \u001b[1;33m=\u001b[0m \u001b[0mdate_series\u001b[0m\u001b[1;33m.\u001b[0m\u001b[0mto_series\u001b[0m\u001b[1;33m(\u001b[0m\u001b[1;33m)\u001b[0m\u001b[1;33m.\u001b[0m\u001b[0mdt\u001b[0m\u001b[1;33m.\u001b[0m\u001b[0mto_period\u001b[0m\u001b[1;33m(\u001b[0m\u001b[1;34m'M'\u001b[0m\u001b[1;33m)\u001b[0m\u001b[1;33m.\u001b[0m\u001b[0mvalue_counts\u001b[0m\u001b[1;33m(\u001b[0m\u001b[1;33m)\u001b[0m\u001b[1;33m.\u001b[0m\u001b[0msort_index\u001b[0m\u001b[1;33m(\u001b[0m\u001b[1;33m)\u001b[0m\u001b[1;33m.\u001b[0m\u001b[0mdropna\u001b[0m\u001b[1;33m(\u001b[0m\u001b[1;33m)\u001b[0m\u001b[1;33m\u001b[0m\u001b[1;33m\u001b[0m\u001b[0m\n\u001b[0m\u001b[0;32m      6\u001b[0m \u001b[1;33m\u001b[0m\u001b[0m\n\u001b[0;32m      7\u001b[0m \u001b[0mdf_counts\u001b[0m \u001b[1;33m=\u001b[0m \u001b[0mdate_counts\u001b[0m\u001b[1;33m.\u001b[0m\u001b[0mrename_axis\u001b[0m\u001b[1;33m(\u001b[0m\u001b[1;34m'mois'\u001b[0m\u001b[1;33m)\u001b[0m\u001b[1;33m.\u001b[0m\u001b[0mreset_index\u001b[0m\u001b[1;33m(\u001b[0m\u001b[0mname\u001b[0m\u001b[1;33m=\u001b[0m\u001b[1;34m'nb_dates'\u001b[0m\u001b[1;33m)\u001b[0m\u001b[1;33m\u001b[0m\u001b[1;33m\u001b[0m\u001b[0m\n\u001b[0;32m      8\u001b[0m \u001b[0mdf_counts\u001b[0m\u001b[1;33m[\u001b[0m\u001b[1;34m'mois_str'\u001b[0m\u001b[1;33m]\u001b[0m \u001b[1;33m=\u001b[0m \u001b[0mdf_counts\u001b[0m\u001b[1;33m[\u001b[0m\u001b[1;34m'mois'\u001b[0m\u001b[1;33m]\u001b[0m\u001b[1;33m.\u001b[0m\u001b[0mastype\u001b[0m\u001b[1;33m(\u001b[0m\u001b[0mstr\u001b[0m\u001b[1;33m)\u001b[0m\u001b[1;33m\u001b[0m\u001b[1;33m\u001b[0m\u001b[0m\n",
      "\u001b[1;32mc:\\Users\\axelp\\anaconda3\\Lib\\site-packages\\pandas\\core\\generic.py\u001b[0m in \u001b[0;36m?\u001b[1;34m(self, name)\u001b[0m\n\u001b[0;32m   6295\u001b[0m             \u001b[1;32mand\u001b[0m \u001b[0mname\u001b[0m \u001b[1;32mnot\u001b[0m \u001b[1;32min\u001b[0m \u001b[0mself\u001b[0m\u001b[1;33m.\u001b[0m\u001b[0m_accessors\u001b[0m\u001b[1;33m\u001b[0m\u001b[1;33m\u001b[0m\u001b[0m\n\u001b[0;32m   6296\u001b[0m             \u001b[1;32mand\u001b[0m \u001b[0mself\u001b[0m\u001b[1;33m.\u001b[0m\u001b[0m_info_axis\u001b[0m\u001b[1;33m.\u001b[0m\u001b[0m_can_hold_identifiers_and_holds_name\u001b[0m\u001b[1;33m(\u001b[0m\u001b[0mname\u001b[0m\u001b[1;33m)\u001b[0m\u001b[1;33m\u001b[0m\u001b[1;33m\u001b[0m\u001b[0m\n\u001b[0;32m   6297\u001b[0m         ):\n\u001b[0;32m   6298\u001b[0m             \u001b[1;32mreturn\u001b[0m \u001b[0mself\u001b[0m\u001b[1;33m[\u001b[0m\u001b[0mname\u001b[0m\u001b[1;33m]\u001b[0m\u001b[1;33m\u001b[0m\u001b[1;33m\u001b[0m\u001b[0m\n\u001b[1;32m-> 6299\u001b[1;33m         \u001b[1;32mreturn\u001b[0m \u001b[0mobject\u001b[0m\u001b[1;33m.\u001b[0m\u001b[0m__getattribute__\u001b[0m\u001b[1;33m(\u001b[0m\u001b[0mself\u001b[0m\u001b[1;33m,\u001b[0m \u001b[0mname\u001b[0m\u001b[1;33m)\u001b[0m\u001b[1;33m\u001b[0m\u001b[1;33m\u001b[0m\u001b[0m\n\u001b[0m",
      "\u001b[1;31mAttributeError\u001b[0m: 'Series' object has no attribute 'to_series'"
     ]
    }
   ],
   "source": [
    "# Conversion en datetime\n",
    "date_series = pd.to_datetime(dates)\n",
    "\n",
    "# Grouper par mois\n",
    "date_counts = date_series.to_series().dt.to_period('M').value_counts().sort_index().dropna()\n",
    "\n",
    "df_counts = date_counts.rename_axis('mois').reset_index(name='nb_dates')\n",
    "df_counts['mois_str'] = df_counts['mois'].astype(str)\n",
    "\n",
    "# Création de la figure\n",
    "fig, ax = plt.subplots(figsize=(8, 5))\n",
    "ax.bar(df_counts['mois_str'], df_counts['nb_dates'], color='skyblue')\n",
    "ax.set_title(\"Nombre de dates par mois\")\n",
    "ax.set_xlabel(\"Mois\")\n",
    "ax.set_ylabel(\"Nombre de dates\")\n",
    "plt.xticks(rotation=45)\n",
    "plt.tight_layout()\n"
   ]
  },
  {
   "cell_type": "code",
   "execution_count": 53,
   "id": "08dd891c",
   "metadata": {},
   "outputs": [
    {
     "name": "stderr",
     "output_type": "stream",
     "text": [
      "C:\\Users\\axelp\\AppData\\Local\\Temp\\ipykernel_16452\\1607396527.py:15: UserWarning: FigureCanvasAgg is non-interactive, and thus cannot be shown\n",
      "  plt.show()\n"
     ]
    }
   ],
   "source": [
    "import pandas as pd\n",
    "import matplotlib.pyplot as plt\n",
    "# Créer l'histogramme\n",
    "plt.figure(figsize=(10, 6))\n",
    "plt.hist(date_counts, bins=10, edgecolor='black')  # \"bins\" définit le nombre de barres de l'histogramme\n",
    "\n",
    "# Ajouter des labels et un titre\n",
    "plt.xlabel('Dates')\n",
    "plt.ylabel('Fréquence')\n",
    "plt.title('Histogramme des Dates')\n",
    "\n",
    "# Afficher l'histogramme\n",
    "plt.xticks(rotation=45)  # Tourner les labels de l'axe des X pour une meilleure lisibilité\n",
    "plt.tight_layout()\n",
    "plt.show()"
   ]
  },
  {
   "cell_type": "code",
   "execution_count": 30,
   "id": "8c429850",
   "metadata": {},
   "outputs": [],
   "source": [
    "df_events['date'].to_csv('date_events.csv')"
   ]
  },
  {
   "cell_type": "code",
   "execution_count": 10,
   "id": "cfadf15c",
   "metadata": {},
   "outputs": [
    {
     "name": "stderr",
     "output_type": "stream",
     "text": [
      "2025-04-21 15:57:02.115 WARNING streamlit.runtime.scriptrunner_utils.script_run_context: Thread 'MainThread': missing ScriptRunContext! This warning can be ignored when running in bare mode.\n",
      "2025-04-21 15:57:02.520 \n",
      "  \u001b[33m\u001b[1mWarning:\u001b[0m to view this Streamlit app on a browser, run it with the following\n",
      "  command:\n",
      "\n",
      "    streamlit run c:\\Users\\axelp\\anaconda3\\Lib\\site-packages\\ipykernel_launcher.py [ARGUMENTS]\n",
      "2025-04-21 15:57:02.522 Thread 'MainThread': missing ScriptRunContext! This warning can be ignored when running in bare mode.\n"
     ]
    },
    {
     "data": {
      "text/plain": [
       "DeltaGenerator()"
      ]
     },
     "execution_count": 10,
     "metadata": {},
     "output_type": "execute_result"
    }
   ],
   "source": [
    "st.title(\"Visualisation des objectifs par thématique\")"
   ]
  },
  {
   "cell_type": "code",
   "execution_count": 22,
   "id": "19a9855a",
   "metadata": {},
   "outputs": [
    {
     "data": {
      "text/plain": [
       "'ajpo;dzhoie,zjeif'"
      ]
     },
     "execution_count": 22,
     "metadata": {},
     "output_type": "execute_result"
    }
   ],
   "source": [
    "\"ajpo;dzhoie,zjeif\".strip()"
   ]
  },
  {
   "cell_type": "code",
   "execution_count": null,
   "id": "74c3e65a",
   "metadata": {},
   "outputs": [],
   "source": []
  }
 ],
 "metadata": {
  "kernelspec": {
   "display_name": "base",
   "language": "python",
   "name": "python3"
  },
  "language_info": {
   "codemirror_mode": {
    "name": "ipython",
    "version": 3
   },
   "file_extension": ".py",
   "mimetype": "text/x-python",
   "name": "python",
   "nbconvert_exporter": "python",
   "pygments_lexer": "ipython3",
   "version": "3.11.5"
  }
 },
 "nbformat": 4,
 "nbformat_minor": 5
}
